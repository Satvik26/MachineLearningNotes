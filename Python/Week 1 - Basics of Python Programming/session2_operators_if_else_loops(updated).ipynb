{
 "cells": [
  {
   "cell_type": "markdown",
   "metadata": {
    "id": "y1HMD4oI7FL7"
   },
   "source": [
    "## Operators in Python\n",
    "\n",
    "- Arithmetic Operators\n",
    "- Relational Operators\n",
    "- Logical Operators\n",
    "- Bitwise Operators\n",
    "- Assignment Operators\n",
    "- Membership Operators"
   ]
  },
  {
   "cell_type": "code",
   "execution_count": 1,
   "metadata": {
    "colab": {
     "base_uri": "https://localhost:8080/"
    },
    "id": "a7cegk-f7U4-",
    "outputId": "77490d0d-316e-4611-9cd7-8c99e64fca2a"
   },
   "outputs": [
    {
     "name": "stdout",
     "output_type": "stream",
     "text": [
      "11\n",
      "-1\n",
      "30\n",
      "2.5\n",
      "2\n",
      "1\n",
      "25\n"
     ]
    }
   ],
   "source": [
    "# Arithmetric Operators\n",
    "print(5+6)\n",
    "\n",
    "print(5-6)\n",
    "\n",
    "print(5*6)\n",
    "\n",
    "print(5/2) # The answer will be in float 5/2 = 2.5\n",
    "\n",
    "print(5//2) # The answer will be in integer 5/2 = 2\n",
    "\n",
    "print(5%2)\n",
    "\n",
    "print(5**2) # The power 5 raise to be 2 = 25"
   ]
  },
  {
   "cell_type": "code",
   "execution_count": null,
   "metadata": {
    "colab": {
     "base_uri": "https://localhost:8080/"
    },
    "id": "TMIQKhFd7Y5A",
    "outputId": "573867e9-962a-45a6-a313-dcaa8b9a6406"
   },
   "outputs": [
    {
     "name": "stdout",
     "output_type": "stream",
     "text": [
      "False\n",
      "True\n",
      "True\n",
      "True\n",
      "True\n",
      "False\n"
     ]
    }
   ],
   "source": [
    "# Relational Operators\n",
    "print(4>5)\n",
    "\n",
    "print(4<5)\n",
    "\n",
    "print(4>=4)\n",
    "\n",
    "print(4<=4)\n",
    "\n",
    "print(4==4)\n",
    "\n",
    "print(4!=4)"
   ]
  },
  {
   "cell_type": "code",
   "execution_count": null,
   "metadata": {
    "colab": {
     "base_uri": "https://localhost:8080/"
    },
    "id": "vyxdjDbc7avq",
    "outputId": "4c6a1710-fea3-466c-f6b2-f98de20a2a0b"
   },
   "outputs": [
    {
     "name": "stdout",
     "output_type": "stream",
     "text": [
      "0\n",
      "1\n",
      "False\n"
     ]
    }
   ],
   "source": [
    "# Logical Operators\n",
    "print(1 and 0)\n",
    "\n",
    "print(1 or 0)\n",
    "\n",
    "print(not 1)"
   ]
  },
  {
   "cell_type": "code",
   "execution_count": null,
   "metadata": {
    "colab": {
     "base_uri": "https://localhost:8080/"
    },
    "id": "H4KzpSke7d9l",
    "outputId": "5832a648-6430-425c-8fa7-8dbad5d8d4b3"
   },
   "outputs": [
    {
     "name": "stdout",
     "output_type": "stream",
     "text": [
      "2\n",
      "3\n",
      "1\n",
      "-4\n",
      "1\n",
      "20\n"
     ]
    }
   ],
   "source": [
    "# Bitwise Operators\n",
    "\n",
    "# bitwise and\n",
    "print(2 & 3)\n",
    "\n",
    "# bitwise or\n",
    "print(2 | 3)\n",
    "\n",
    "# bitwise xor\n",
    "print(2 ^ 3)\n",
    "\n",
    "print(~3)\n",
    "\n",
    "print(4 >> 2)\n",
    "\n",
    "print(5 << 2)"
   ]
  },
  {
   "cell_type": "code",
   "execution_count": 4,
   "metadata": {
    "colab": {
     "base_uri": "https://localhost:8080/"
    },
    "id": "8EEm8eHO7gD_",
    "outputId": "a421f118-2ee3-42da-91ff-3cd06de41755"
   },
   "outputs": [
    {
     "name": "stdout",
     "output_type": "stream",
     "text": [
      "1\n"
     ]
    }
   ],
   "source": [
    "# Assignment Operators\n",
    "\n",
    "# =\n",
    "# a = 2\n",
    "\n",
    "a = 2\n",
    "\n",
    "# a = a % 2\n",
    "a %= 2\n",
    "\n",
    "# a++ ++a We can't use this in python\n",
    "\n",
    "print(a)"
   ]
  },
  {
   "cell_type": "code",
   "execution_count": null,
   "metadata": {
    "colab": {
     "base_uri": "https://localhost:8080/"
    },
    "id": "LzrIz7I87h-W",
    "outputId": "d362a8a0-bbae-406f-bd33-fc6fe789e889"
   },
   "outputs": [
    {
     "name": "stdout",
     "output_type": "stream",
     "text": [
      "False\n",
      "False\n"
     ]
    }
   ],
   "source": [
    "# Membership Operators\n",
    "\n",
    "# in/not in\n",
    "\n",
    "print('D' not in 'Delhi')\n",
    "\n",
    "print(1 in [2,3,4,5,6])"
   ]
  },
  {
   "cell_type": "code",
   "execution_count": null,
   "metadata": {
    "colab": {
     "base_uri": "https://localhost:8080/"
    },
    "id": "C-LoVrYGDEuB",
    "outputId": "5842d198-7b4f-4785-cec7-5735603ab873"
   },
   "outputs": [
    {
     "name": "stdout",
     "output_type": "stream",
     "text": [
      "Enter a 3 digit number666\n",
      "18\n"
     ]
    }
   ],
   "source": [
    "# Program - Find the sum of a 3 digit number entered by the user\n",
    "\n",
    "number = int(input('Enter a 3 digit number'))\n",
    "\n",
    "# 345%10 -> 5\n",
    "a = number%10\n",
    "\n",
    "number = number//10\n",
    "\n",
    "# 34%10 -> 4\n",
    "b = number % 10\n",
    "\n",
    "number = number//10\n",
    "# 3 % 10 -> 3\n",
    "c = number % 10\n",
    "\n",
    "print(a + b + c)"
   ]
  },
  {
   "cell_type": "markdown",
   "metadata": {
    "id": "Iq7CzVFs7mWT"
   },
   "source": [
    "## If-else in Python"
   ]
  },
  {
   "cell_type": "code",
   "execution_count": null,
   "metadata": {
    "colab": {
     "base_uri": "https://localhost:8080/"
    },
    "id": "dGz-83pN7oxe",
    "outputId": "01cd71cf-6af3-464a-dcc1-8c21be5e092c"
   },
   "outputs": [
    {
     "name": "stdout",
     "output_type": "stream",
     "text": [
      "enter emailsrhreh\n",
      "enter passworderhetjh\n",
      "Not correct\n"
     ]
    }
   ],
   "source": [
    "# login program and indentation\n",
    "# email -> nitish.campusx@gmail.com\n",
    "# password -> 1234\n",
    "\n",
    "email = input('enter email')\n",
    "password = input('enter password')\n",
    "\n",
    "if email == 'nitish.campusx@gmail.com' and password == '1234':\n",
    "  print('Welcome')\n",
    "elif email == 'nitish.campusx@gmail.com' and password != '1234':\n",
    "  # tell the user\n",
    "  print('Incorrect password')\n",
    "  password = input('enter password again')\n",
    "  if password == '1234':\n",
    "    print('Welcome,finally!')\n",
    "  else:\n",
    "    print('beta tumse na ho paayega!')\n",
    "else:\n",
    "  print('Not correct')"
   ]
  },
  {
   "cell_type": "code",
   "execution_count": null,
   "metadata": {
    "id": "qo_1tY2ABlAX"
   },
   "outputs": [],
   "source": [
    "# if-else examples\n",
    "# 1. Find the min of 3 given numbers\n",
    "# 2. Menu Driven Program"
   ]
  },
  {
   "cell_type": "code",
   "execution_count": null,
   "metadata": {
    "colab": {
     "base_uri": "https://localhost:8080/"
    },
    "id": "gQpTJbMH3W6_",
    "outputId": "3a2ff0d1-a8d2-4b41-eb50-49612c57b612"
   },
   "outputs": [
    {
     "name": "stdout",
     "output_type": "stream",
     "text": [
      "first num4\n",
      "second num1\n",
      "third num10\n",
      "smallest is 1\n"
     ]
    }
   ],
   "source": [
    "# min of 3 number\n",
    "\n",
    "a = int(input('first num'))\n",
    "b = int(input('second num'))\n",
    "c = int(input('third num'))\n",
    "\n",
    "if a<b and a<c:\n",
    "  print('smallest is',a)\n",
    "elif b<c:\n",
    "  print('smallest is',b)\n",
    "else:\n",
    "  print('smallest is',c)"
   ]
  },
  {
   "cell_type": "code",
   "execution_count": null,
   "metadata": {
    "colab": {
     "base_uri": "https://localhost:8080/"
    },
    "id": "hgNqlC5C4jqF",
    "outputId": "d9a4e001-985d-46fe-fdf4-2767dde7d340"
   },
   "outputs": [
    {
     "name": "stdout",
     "output_type": "stream",
     "text": [
      "\n",
      "Hi! how can I help you.\n",
      "1. Enter 1 for pin change\n",
      "2. Enter 2 for balance check\n",
      "3. Enter 3 for withdrawl\n",
      "4. Enter 4 for exit\n",
      "2\n",
      "balance\n"
     ]
    }
   ],
   "source": [
    "# menu driven calculator\n",
    "menu = input(\"\"\"\n",
    "Hi! how can I help you.\n",
    "1. Enter 1 for pin change\n",
    "2. Enter 2 for balance check\n",
    "3. Enter 3 for withdrawl\n",
    "4. Enter 4 for exit\n",
    "\"\"\")\n",
    "\n",
    "if menu == '1':\n",
    "  print('pin change')\n",
    "elif menu == '2':\n",
    "  print('balance')\n",
    "else:\n",
    "  print('exit')"
   ]
  },
  {
   "cell_type": "markdown",
   "metadata": {
    "id": "532_6mva8A6C"
   },
   "source": [
    "## Modules in Python\n",
    "\n",
    "- math\n",
    "- keywords\n",
    "- random\n",
    "- datetime"
   ]
  },
  {
   "cell_type": "code",
   "execution_count": 1,
   "metadata": {
    "colab": {
     "base_uri": "https://localhost:8080/"
    },
    "id": "x5VXt7wv8G4o",
    "outputId": "0f191ca5-e4c3-4c79-ecf2-dcbd23cbd770"
   },
   "outputs": [
    {
     "data": {
      "text/plain": [
       "14.0"
      ]
     },
     "execution_count": 1,
     "metadata": {},
     "output_type": "execute_result"
    }
   ],
   "source": [
    "# math\n",
    "import math\n",
    "\n",
    "math.sqrt(196)"
   ]
  },
  {
   "cell_type": "code",
   "execution_count": 2,
   "metadata": {
    "colab": {
     "base_uri": "https://localhost:8080/"
    },
    "id": "FLgAX9pz8HBT",
    "outputId": "63de6b39-b796-475b-9b7d-fa22f2019c90"
   },
   "outputs": [
    {
     "name": "stdout",
     "output_type": "stream",
     "text": [
      "['False', 'None', 'True', '__peg_parser__', 'and', 'as', 'assert', 'async', 'await', 'break', 'class', 'continue', 'def', 'del', 'elif', 'else', 'except', 'finally', 'for', 'from', 'global', 'if', 'import', 'in', 'is', 'lambda', 'nonlocal', 'not', 'or', 'pass', 'raise', 'return', 'try', 'while', 'with', 'yield']\n"
     ]
    }
   ],
   "source": [
    "# keyword\n",
    "import keyword\n",
    "print(keyword.kwlist)"
   ]
  },
  {
   "cell_type": "code",
   "execution_count": 6,
   "metadata": {
    "colab": {
     "base_uri": "https://localhost:8080/"
    },
    "id": "R0dWpe-w8HSZ",
    "outputId": "3aa87b74-0699-47d7-8316-73de80dbfeb1"
   },
   "outputs": [
    {
     "name": "stdout",
     "output_type": "stream",
     "text": [
      "189\n"
     ]
    }
   ],
   "source": [
    "# random\n",
    "import random\n",
    "print(random.randint(1,1000))"
   ]
  },
  {
   "cell_type": "code",
   "execution_count": 7,
   "metadata": {
    "colab": {
     "base_uri": "https://localhost:8080/"
    },
    "id": "XNHWXsM0iFn3",
    "outputId": "7d219248-ba98-4b2e-a382-57630acea35c"
   },
   "outputs": [
    {
     "name": "stdout",
     "output_type": "stream",
     "text": [
      "2023-09-23 13:27:49.443037\n"
     ]
    }
   ],
   "source": [
    "# datetime\n",
    "import datetime\n",
    "print(datetime.datetime.now())"
   ]
  },
  {
   "cell_type": "code",
   "execution_count": 9,
   "metadata": {
    "colab": {
     "base_uri": "https://localhost:8080/"
    },
    "id": "ePMxrlzX8CsQ",
    "outputId": "719443f9-8cb6-48fc-9a02-dee02625fc8f"
   },
   "outputs": [
    {
     "ename": "ModuleNotFoundError",
     "evalue": "No module named 'tensorflow'",
     "output_type": "error",
     "traceback": [
      "\u001b[0;31m---------------------------------------------------------------------------\u001b[0m",
      "\u001b[0;31mModuleNotFoundError\u001b[0m                       Traceback (most recent call last)",
      "\u001b[0;32m/var/folders/t8/c3gz51w107s3mw7rbv_100lr0000gn/T/ipykernel_16569/2961304217.py\u001b[0m in \u001b[0;36m<module>\u001b[0;34m\u001b[0m\n\u001b[1;32m      1\u001b[0m \u001b[0;31m#help('modules')\u001b[0m\u001b[0;34m\u001b[0m\u001b[0;34m\u001b[0m\u001b[0m\n\u001b[0;32m----> 2\u001b[0;31m \u001b[0;32mimport\u001b[0m \u001b[0mtensorflow\u001b[0m \u001b[0;32mas\u001b[0m \u001b[0mtf\u001b[0m\u001b[0;34m\u001b[0m\u001b[0;34m\u001b[0m\u001b[0m\n\u001b[0m\u001b[1;32m      3\u001b[0m \u001b[0mprint\u001b[0m\u001b[0;34m(\u001b[0m\u001b[0mtf\u001b[0m\u001b[0;34m.\u001b[0m\u001b[0m__version__\u001b[0m\u001b[0;34m)\u001b[0m\u001b[0;34m\u001b[0m\u001b[0;34m\u001b[0m\u001b[0m\n",
      "\u001b[0;31mModuleNotFoundError\u001b[0m: No module named 'tensorflow'"
     ]
    }
   ],
   "source": [
    "#help('modules')"
   ]
  },
  {
   "cell_type": "markdown",
   "metadata": {
    "id": "2Ow6_gWG7ukc"
   },
   "source": [
    "## Loops in Python\n",
    "\n",
    "- Need for loops\n",
    "- While Loop\n",
    "- For Loop"
   ]
  },
  {
   "cell_type": "code",
   "execution_count": null,
   "metadata": {
    "id": "Ig7NIb7L7txg"
   },
   "outputs": [],
   "source": [
    "# While loop example -> program to print the table\n",
    "# Program -> Sum of all digits of a given number\n",
    "# Program -> keep accepting numbers from users till he/she enters a 0 and then find the avg"
   ]
  },
  {
   "cell_type": "code",
   "execution_count": null,
   "metadata": {
    "colab": {
     "base_uri": "https://localhost:8080/"
    },
    "id": "brWSxgiu9rrQ",
    "outputId": "eb64e76c-ee60-4584-9d00-9fd6729d39e8"
   },
   "outputs": [
    {
     "name": "stdout",
     "output_type": "stream",
     "text": [
      "enter the number12\n",
      "12 * 1 = 12\n",
      "12 * 2 = 24\n",
      "12 * 3 = 36\n",
      "12 * 4 = 48\n",
      "12 * 5 = 60\n",
      "12 * 6 = 72\n",
      "12 * 7 = 84\n",
      "12 * 8 = 96\n",
      "12 * 9 = 108\n",
      "12 * 10 = 120\n"
     ]
    }
   ],
   "source": [
    "number = int(input('enter the number'))\n",
    "\n",
    "i = 1\n",
    "\n",
    "while i<11:\n",
    "  print(number,'*',i,'=',number * i)\n",
    "  i += 1"
   ]
  },
  {
   "cell_type": "code",
   "execution_count": null,
   "metadata": {
    "colab": {
     "base_uri": "https://localhost:8080/"
    },
    "id": "Ltsr9n3H73fp",
    "outputId": "a47f2a11-bf75-4a0a-923c-49f318514900"
   },
   "outputs": [
    {
     "name": "stdout",
     "output_type": "stream",
     "text": [
      "1\n",
      "2\n",
      "limit crossed\n"
     ]
    }
   ],
   "source": [
    "# while loop with else\n",
    "\n",
    "x = 1\n",
    "\n",
    "while x < 3:\n",
    "  print(x)\n",
    "  x += 1\n",
    "\n",
    "else:\n",
    "  print('limit crossed')"
   ]
  },
  {
   "cell_type": "code",
   "execution_count": null,
   "metadata": {
    "colab": {
     "base_uri": "https://localhost:8080/"
    },
    "id": "29y5r2cr8MRP",
    "outputId": "c4d707ce-6f6c-49cc-8997-a85ecf01e74e"
   },
   "outputs": [
    {
     "name": "stdout",
     "output_type": "stream",
     "text": [
      "guess karo7\n",
      "galat!guess higher\n",
      "guess karo50\n",
      "galat!guess lower\n",
      "guess karo30\n",
      "galat!guess higher\n",
      "guess karo40\n",
      "galat!guess lower\n",
      "guess karo35\n",
      "galat!guess lower\n",
      "guess karo32\n",
      "galat!guess higher\n",
      "guess karo33\n",
      "correct guess\n",
      "attempts 7\n"
     ]
    }
   ],
   "source": [
    "# Guessing game\n",
    "\n",
    "# generate a random integer between 1 and 100\n",
    "import random\n",
    "jackpot = random.randint(1,100)\n",
    "\n",
    "guess = int(input('guess karo'))\n",
    "counter = 1\n",
    "while guess != jackpot:\n",
    "  if guess < jackpot:\n",
    "    print('galat!guess higher')\n",
    "  else:\n",
    "    print('galat!guess lower')\n",
    "\n",
    "  guess = int(input('guess karo'))\n",
    "  counter += 1\n",
    "\n",
    "else:\n",
    "  print('correct guess')\n",
    "  print('attempts',counter)\n",
    "\n",
    "\n"
   ]
  },
  {
   "cell_type": "code",
   "execution_count": 11,
   "metadata": {
    "colab": {
     "base_uri": "https://localhost:8080/"
    },
    "id": "bjjx0fMr8SWh",
    "outputId": "a3bf4676-a68c-499f-fc00-e0fe0f04285b"
   },
   "outputs": [
    {
     "name": "stdout",
     "output_type": "stream",
     "text": [
      "1\n",
      "2\n",
      "3\n",
      "4\n",
      "5\n",
      "6\n",
      "7\n",
      "8\n",
      "9\n",
      "D\n",
      "e\n",
      "l\n",
      "h\n",
      "i\n"
     ]
    }
   ],
   "source": [
    "# For loop demo\n",
    "# In range function the second parameter is excluded and we have third parameter as step size\n",
    "# as well which jump the values\n",
    "for i in range(1,10):\n",
    "    print(i)\n",
    "\n",
    "#for i in {1,2,3,4,5}:\n",
    "#  print(i)\n",
    "\n",
    "for i in \"Delhi\":\n",
    "    print(i)"
   ]
  },
  {
   "cell_type": "code",
   "execution_count": null,
   "metadata": {
    "id": "5ZLWEyFn8g1R"
   },
   "outputs": [],
   "source": [
    "# For loop examples"
   ]
  },
  {
   "cell_type": "markdown",
   "metadata": {
    "id": "EXnzCtohWx2V"
   },
   "source": [
    "### Program - The current population of a town is 10000. The population of the town is increasing at the rate of 10% per year. You have to write a program to find out the population at the end of each of the last 10 years."
   ]
  },
  {
   "cell_type": "code",
   "execution_count": 17,
   "metadata": {
    "colab": {
     "base_uri": "https://localhost:8080/"
    },
    "id": "Nc_6lslRW03g",
    "outputId": "80e461e9-7ff9-46c1-819d-a5ee314fa91e"
   },
   "outputs": [
    {
     "name": "stdout",
     "output_type": "stream",
     "text": [
      "10 10000\n",
      "9 9000.0\n",
      "8 8100.0\n",
      "7 7290.0\n",
      "6 6561.0\n",
      "5 5904.9\n",
      "4 5314.41\n",
      "3 4782.969\n",
      "2 4304.6721\n",
      "1 3874.20489\n"
     ]
    }
   ],
   "source": [
    "# Code Used in the session\n",
    "curr_pop = 10000\n",
    "\n",
    "for i in range(10,0,-1):\n",
    "  print(i,curr_pop)\n",
    "  curr_pop = curr_pop - 0.1*curr_pop\n"
   ]
  },
  {
   "cell_type": "code",
   "execution_count": null,
   "metadata": {
    "id": "TPXkdE9hI7dm"
   },
   "outputs": [],
   "source": [
    "# Correct Answer of above question:\n",
    "curr_pop = 10000\n",
    "\n",
    "for i in range(10,0,-1):\n",
    "  print(i,curr_pop)\n",
    "  curr_pop /= 1.1\n"
   ]
  },
  {
   "cell_type": "markdown",
   "metadata": {
    "id": "kB-F1EYdJ-XU"
   },
   "source": [
    "#### Explanation :\n",
    "\n",
    "\n",
    "\n",
    "To calculate the population for each year with a 10% increase, you can use a simpler equation based on the previous year's population. Let's assume the population of the previous year is represented by variable x.\n",
    "\n",
    "The equation can be written as:\n",
    "\n",
    "> Current Year Population = x * 1.1\n",
    "\n",
    "In this equation, the current year's population is equal to the previous year's population multiplied by 1.1, representing a 10% increase.\n",
    "\n",
    "To find the population of the previous year (x), we can rearrange the equation as follows:\n",
    "\n",
    "> x = Current Year Population / 1.1\n",
    "\n",
    "Using this simplified equation, if you have the current year's population (e.g., 10,000), you can divide it by 1.1 to calculate the population of the previous year.\n",
    "\n",
    "This equation allows you to calculate the population for each year, assuming you know the population of the current year and want to find the population of the previous year."
   ]
  },
  {
   "cell_type": "markdown",
   "metadata": {
    "id": "4xVI9HkgcEla"
   },
   "source": [
    "### Sequence sum\n",
    "\n",
    "1/1! + 2/2! + 3/3! + ..."
   ]
  },
  {
   "cell_type": "code",
   "execution_count": null,
   "metadata": {
    "id": "wGC1eCDecPcB"
   },
   "outputs": [],
   "source": [
    "# code here"
   ]
  },
  {
   "cell_type": "code",
   "execution_count": null,
   "metadata": {
    "id": "PNLWd1WR8dSw"
   },
   "outputs": [],
   "source": [
    "# For loop vs While loops (When to use what?)"
   ]
  },
  {
   "cell_type": "markdown",
   "metadata": {
    "id": "1bdP8FTX87Du"
   },
   "source": [
    "## Nested Loops"
   ]
  },
  {
   "cell_type": "code",
   "execution_count": null,
   "metadata": {
    "id": "-YY5edV98lXq"
   },
   "outputs": [],
   "source": [
    "# Examples"
   ]
  },
  {
   "cell_type": "code",
   "execution_count": null,
   "metadata": {
    "id": "Ym8nRkqxGXLN"
   },
   "outputs": [],
   "source": [
    "# Program - Unique combination of 1,2,3,4\n",
    "# Program - Pattern 1 and 2"
   ]
  },
  {
   "cell_type": "markdown",
   "metadata": {
    "id": "_Hz8L0f3c_3P"
   },
   "source": [
    "### Pattern 1\n",
    "\n",
    "\n",
    "*** <br>\n",
    "**** <br>\n",
    "***<br>\n"
   ]
  },
  {
   "cell_type": "code",
   "execution_count": null,
   "metadata": {
    "id": "YsL_YmxRdNrn"
   },
   "outputs": [],
   "source": []
  },
  {
   "cell_type": "markdown",
   "metadata": {
    "id": "eVAO3tVmdOWV"
   },
   "source": [
    "### Pattern 2\n",
    "\n",
    "1<br>\n",
    "121<br>\n",
    "12321<br>\n",
    "1234321<br>"
   ]
  },
  {
   "cell_type": "code",
   "execution_count": null,
   "metadata": {
    "id": "sHW4YJqcdXzw"
   },
   "outputs": [],
   "source": []
  },
  {
   "cell_type": "markdown",
   "metadata": {
    "id": "8GccSRIt891U"
   },
   "source": [
    "## Loop Control Statement\n",
    "\n",
    "- Break\n",
    "- Continue\n",
    "- Pass"
   ]
  },
  {
   "cell_type": "code",
   "execution_count": null,
   "metadata": {
    "id": "kN9s2dG89DlJ"
   },
   "outputs": [],
   "source": [
    "# Break demo"
   ]
  },
  {
   "cell_type": "code",
   "execution_count": null,
   "metadata": {
    "id": "u09EdMCm9FK_"
   },
   "outputs": [],
   "source": [
    "# Break example (Linear Search) -> Prime number in a given range"
   ]
  },
  {
   "cell_type": "code",
   "execution_count": null,
   "metadata": {
    "id": "3q5asa2l9GYy"
   },
   "outputs": [],
   "source": [
    "# Continue demo"
   ]
  },
  {
   "cell_type": "code",
   "execution_count": null,
   "metadata": {
    "id": "cA8CiMgn9IIT"
   },
   "outputs": [],
   "source": [
    "# Continue Example (Ecommerce)"
   ]
  },
  {
   "cell_type": "code",
   "execution_count": null,
   "metadata": {
    "id": "P7GB16j59J-3"
   },
   "outputs": [],
   "source": [
    "# Pass demo"
   ]
  }
 ],
 "metadata": {
  "colab": {
   "provenance": []
  },
  "kernelspec": {
   "display_name": "Python 3 (ipykernel)",
   "language": "python",
   "name": "python3"
  },
  "language_info": {
   "codemirror_mode": {
    "name": "ipython",
    "version": 3
   },
   "file_extension": ".py",
   "mimetype": "text/x-python",
   "name": "python",
   "nbconvert_exporter": "python",
   "pygments_lexer": "ipython3",
   "version": "3.9.13"
  }
 },
 "nbformat": 4,
 "nbformat_minor": 1
}
